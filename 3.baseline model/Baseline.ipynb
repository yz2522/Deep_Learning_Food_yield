{
 "cells": [
  {
   "cell_type": "code",
   "execution_count": 1,
   "metadata": {},
   "outputs": [],
   "source": [
    "import numpy as np\n",
    "from sklearn.linear_model import LinearRegression\n",
    "from sklearn.ensemble import RandomForestRegressor\n",
    "from sklearn.neural_network import MLPRegressor\n",
    "import logging\n",
    "from nnet_for_hist_dropout_stride import *\n",
    "from sklearn.metrics import mean_squared_error\n",
    "from math import sqrt"
   ]
  },
  {
   "cell_type": "markdown",
   "metadata": {},
   "source": [
    "# Linear regression"
   ]
  },
  {
   "cell_type": "code",
   "execution_count": 2,
   "metadata": {},
   "outputs": [
    {
     "name": "stdout",
     "output_type": "stream",
     "text": [
      "('train size', 724)\n",
      "('validate size', 55)\n"
     ]
    }
   ],
   "source": [
    "\n",
    "if __name__ == \"__main__\":\n",
    "    predict_year = 2015\n",
    "    config = Config()\n",
    "    logging.basicConfig(filename='train_for_hist_alldata_linear'+str(predict_year)+'.log',level=logging.DEBUG)\n",
    "\n",
    "    # load data to memory\n",
    "    filename = 'histogram_all_mean' + '.npz'\n",
    "    # filename = 'histogram_all_soilweather' + '.npz'\n",
    "    content = np.load(config.load_path + filename)\n",
    "    image_all = content['output_image']\n",
    "    yield_all = content['output_yield']\n",
    "    year_all = content['output_year']\n",
    "    locations_all = content['output_locations']\n",
    "    index_all = content['output_index']\n",
    "\n",
    "    # keep major counties\n",
    "    list_keep=[]\n",
    "    for i in range(image_all.shape[0]):\n",
    "        if (index_all[i,0]==36)or(index_all[i,0]==42)or(index_all[i,0]==24):\n",
    "            list_keep.append(i)\n",
    "    image_all=image_all[list_keep,:]\n",
    "    yield_all=yield_all[list_keep]\n",
    "    year_all = year_all[list_keep]\n",
    "    locations_all = locations_all[list_keep,:]\n",
    "    index_all = index_all[list_keep,:]\n",
    "\n",
    "    # split into train and validate\n",
    "    index_train = np.nonzero(year_all < predict_year)[0]\n",
    "    index_validate = np.nonzero(year_all == predict_year)[0]\n",
    "    print('train size',index_train.shape[0])\n",
    "    print('validate size',index_validate.shape[0])\n",
    "\n",
    "\n",
    "    image_validate=image_all[index_validate]\n",
    "    yield_validate=yield_all[index_validate]\n",
    "\n",
    "    reg = LinearRegression()\n",
    "\n"
   ]
  },
  {
   "cell_type": "code",
   "execution_count": 33,
   "metadata": {
    "scrolled": true
   },
   "outputs": [
    {
     "data": {
      "text/plain": [
       "15.84545957058363"
      ]
     },
     "execution_count": 33,
     "metadata": {},
     "output_type": "execute_result"
    }
   ],
   "source": [
    "reg.fit(image_all[index_train], yield_all[index_train])\n",
    "\n",
    "reg.score(image_all[index_train], yield_all[index_train])\n",
    "\n",
    "linear_pred = reg.predict(image_validate)\n",
    "\n",
    "RMSE = sqrt(mean_squared_error(yield_validate, linear_pred))\n",
    "\n",
    "RMSE"
   ]
  },
  {
   "cell_type": "markdown",
   "metadata": {},
   "source": [
    "# Ramdom Forest"
   ]
  },
  {
   "cell_type": "code",
   "execution_count": 3,
   "metadata": {},
   "outputs": [
    {
     "data": {
      "text/plain": [
       "6.315934141302672"
      ]
     },
     "execution_count": 3,
     "metadata": {},
     "output_type": "execute_result"
    }
   ],
   "source": [
    "rf = RandomForestRegressor(n_estimators=200, criterion='mse', random_state = 10000)\n",
    "\n",
    "rf.fit(image_all[index_train], yield_all[index_train])\n",
    "rf_pred = rf.predict(image_validate)\n",
    "RMSE_rf = sqrt(mean_squared_error(yield_validate, rf_pred))\n",
    "RMSE_rf"
   ]
  },
  {
   "cell_type": "code",
   "execution_count": 5,
   "metadata": {},
   "outputs": [],
   "source": [
    "rf_imp = rf.feature_importances_"
   ]
  },
  {
   "cell_type": "code",
   "execution_count": 8,
   "metadata": {
    "scrolled": true
   },
   "outputs": [
    {
     "data": {
      "text/plain": [
       "array([0.00180047, 0.0006097 , 0.00121766, 0.00210895, 0.00167433,\n",
       "       0.00158928, 0.00162774, 0.00347448, 0.00464312, 0.00061642,\n",
       "       0.00125186, 0.0009805 , 0.00108479, 0.00185204, 0.00157062,\n",
       "       0.0011568 , 0.00182988, 0.00196093, 0.00099831, 0.00135892,\n",
       "       0.00088483, 0.0008259 , 0.00135795, 0.00300193, 0.00236436,\n",
       "       0.00298939, 0.00217409, 0.00086586, 0.00306622, 0.00066206,\n",
       "       0.00117424, 0.00152151, 0.00497493, 0.00896114, 0.00179755,\n",
       "       0.0014165 , 0.00084701, 0.00173481, 0.00097843, 0.0014206 ,\n",
       "       0.00105168, 0.0008248 , 0.00146935, 0.00226858, 0.00308117,\n",
       "       0.00085098, 0.00217221, 0.00078939, 0.00064701, 0.00102827,\n",
       "       0.00114339, 0.00121189, 0.00251147, 0.00614527, 0.00064863,\n",
       "       0.00170119, 0.00124348, 0.00141953, 0.00121155, 0.00133483,\n",
       "       0.0008843 , 0.00240895, 0.00445152, 0.00103198, 0.0018326 ,\n",
       "       0.0011453 , 0.00140274, 0.00123541, 0.00161887, 0.00143135,\n",
       "       0.00182518, 0.0022906 , 0.00067863, 0.0012154 , 0.00083174,\n",
       "       0.00113693, 0.00235855, 0.00148819, 0.00083425, 0.00169742,\n",
       "       0.00971267, 0.00210141, 0.0022375 , 0.00142675, 0.00219703,\n",
       "       0.00128131, 0.00102228, 0.00090219, 0.00619493, 0.00319261,\n",
       "       0.007364  , 0.00173414, 0.00156901, 0.00755235, 0.00287818,\n",
       "       0.01222888, 0.00912924, 0.00237832, 0.0013582 , 0.00220387,\n",
       "       0.001277  , 0.00127731, 0.00212444, 0.00119307, 0.00070317,\n",
       "       0.00151935, 0.01187753, 0.0020591 , 0.00127034, 0.00173879,\n",
       "       0.00243973, 0.00100929, 0.00114689, 0.00162293, 0.00117455,\n",
       "       0.02247654, 0.0022548 , 0.00189127, 0.00230672, 0.00151744,\n",
       "       0.0014388 , 0.00219113, 0.00116253, 0.00093727, 0.00260791,\n",
       "       0.00511724, 0.00124129, 0.00136458, 0.00177902, 0.00205413,\n",
       "       0.00118785, 0.00102004, 0.00159777, 0.00427565, 0.00401101,\n",
       "       0.00053327, 0.00378374, 0.0016553 , 0.0026632 , 0.00540559,\n",
       "       0.00092029, 0.00101872, 0.00169585, 0.0014033 , 0.00086433,\n",
       "       0.00172017, 0.00161867, 0.00160392, 0.02134352, 0.00087323,\n",
       "       0.00216128, 0.00146462, 0.00882806, 0.0027028 , 0.0011834 ,\n",
       "       0.00106988, 0.00145212, 0.00126225, 0.00163175, 0.00175498,\n",
       "       0.00208395, 0.00285853, 0.00098584, 0.00239904, 0.00055872,\n",
       "       0.00165671, 0.00223805, 0.00163791, 0.00326556, 0.00213365,\n",
       "       0.00146047, 0.00162343, 0.0009471 , 0.00139968, 0.00185199,\n",
       "       0.00169257, 0.00232042, 0.0032074 , 0.00207031, 0.00212227,\n",
       "       0.00140435, 0.00288223, 0.00122424, 0.00284197, 0.00175785,\n",
       "       0.00115261, 0.00259475, 0.06764658, 0.00163449, 0.00377155,\n",
       "       0.00375801, 0.00182715, 0.00137382, 0.00155592, 0.00357372,\n",
       "       0.00781687, 0.20313316, 0.00593456, 0.00208594, 0.00221341,\n",
       "       0.00089388, 0.00112259, 0.00138052, 0.00242468, 0.04610006,\n",
       "       0.0096224 , 0.00500343, 0.00093468, 0.0027294 , 0.00086574,\n",
       "       0.00108925, 0.00095591, 0.00619078, 0.00815955, 0.008028  ,\n",
       "       0.00220217, 0.0014984 , 0.00316197, 0.00145509, 0.00196255,\n",
       "       0.00136251, 0.0019494 , 0.00343164, 0.00356324, 0.00152651,\n",
       "       0.00223036, 0.00119101, 0.00097554, 0.00152928, 0.00309458,\n",
       "       0.00188647, 0.00654406, 0.01427513, 0.00136342, 0.00849861,\n",
       "       0.00237781, 0.00143775, 0.00202445, 0.00109881, 0.00109616,\n",
       "       0.00092498, 0.00165875, 0.00165118, 0.00071113, 0.00168833,\n",
       "       0.001425  , 0.00190977, 0.00069474, 0.00139482, 0.00157881,\n",
       "       0.00442255, 0.00143091, 0.001082  , 0.00184201, 0.00116001,\n",
       "       0.00103702, 0.00167419, 0.00120052, 0.00146219, 0.00181976,\n",
       "       0.00285575, 0.00112883, 0.00174911, 0.00106243, 0.00101906,\n",
       "       0.00119411, 0.0016784 , 0.00254697, 0.0056495 , 0.00694763,\n",
       "       0.00145243, 0.00168975, 0.00135307, 0.00121707, 0.00167415,\n",
       "       0.00122976, 0.00104307, 0.00257459, 0.00297308, 0.00092327,\n",
       "       0.00117231, 0.00128566, 0.00104479, 0.00110045, 0.00128279,\n",
       "       0.00108036, 0.00519387, 0.00404824])"
      ]
     },
     "execution_count": 8,
     "metadata": {},
     "output_type": "execute_result"
    }
   ],
   "source": [
    "rf_imp"
   ]
  },
  {
   "cell_type": "markdown",
   "metadata": {},
   "source": [
    "# MLP"
   ]
  },
  {
   "cell_type": "code",
   "execution_count": 38,
   "metadata": {},
   "outputs": [
    {
     "data": {
      "text/plain": [
       "7.4710167096830515"
      ]
     },
     "execution_count": 38,
     "metadata": {},
     "output_type": "execute_result"
    }
   ],
   "source": [
    "mlp = MLPRegressor(hidden_layer_sizes = (500,500,500), activation = 'logistic', random_state = 10000)\n",
    "mlp.fit(image_all[index_train], yield_all[index_train])\n",
    "mlp_pred = mlp.predict(image_validate)\n",
    "RMSE_mlp = sqrt(mean_squared_error(yield_validate, mlp_pred))\n",
    "RMSE_mlp"
   ]
  },
  {
   "cell_type": "markdown",
   "metadata": {},
   "source": [
    "# Extra Tree"
   ]
  },
  {
   "cell_type": "code",
   "execution_count": 9,
   "metadata": {},
   "outputs": [],
   "source": [
    "from sklearn.tree import ExtraTreeRegressor"
   ]
  },
  {
   "cell_type": "code",
   "execution_count": 10,
   "metadata": {},
   "outputs": [],
   "source": [
    "ext = ExtraTreeRegressor()"
   ]
  },
  {
   "cell_type": "code",
   "execution_count": 11,
   "metadata": {},
   "outputs": [
    {
     "data": {
      "text/plain": [
       "9.575622457811578"
      ]
     },
     "execution_count": 11,
     "metadata": {},
     "output_type": "execute_result"
    }
   ],
   "source": [
    "ext.fit(image_all[index_train], yield_all[index_train])\n",
    "ext_pred = ext.predict(image_validate)\n",
    "RMSE_rf = sqrt(mean_squared_error(yield_validate, ext_pred))\n",
    "RMSE_rf"
   ]
  },
  {
   "cell_type": "code",
   "execution_count": 12,
   "metadata": {},
   "outputs": [],
   "source": [
    "ext_imp = ext.feature_importances_"
   ]
  },
  {
   "cell_type": "markdown",
   "metadata": {},
   "source": [
    "# Plot Hist for Imp"
   ]
  },
  {
   "cell_type": "code",
   "execution_count": 17,
   "metadata": {},
   "outputs": [],
   "source": [
    "import matplotlib.pyplot as plt"
   ]
  },
  {
   "cell_type": "code",
   "execution_count": 13,
   "metadata": {
    "scrolled": true
   },
   "outputs": [
    {
     "data": {
      "text/plain": [
       "array([0.00180047, 0.0006097 , 0.00121766, 0.00210895, 0.00167433,\n",
       "       0.00158928, 0.00162774, 0.00347448, 0.00464312, 0.00061642,\n",
       "       0.00125186, 0.0009805 , 0.00108479, 0.00185204, 0.00157062,\n",
       "       0.0011568 , 0.00182988, 0.00196093, 0.00099831, 0.00135892,\n",
       "       0.00088483, 0.0008259 , 0.00135795, 0.00300193, 0.00236436,\n",
       "       0.00298939, 0.00217409, 0.00086586, 0.00306622, 0.00066206,\n",
       "       0.00117424, 0.00152151, 0.00497493, 0.00896114, 0.00179755,\n",
       "       0.0014165 , 0.00084701, 0.00173481, 0.00097843, 0.0014206 ,\n",
       "       0.00105168, 0.0008248 , 0.00146935, 0.00226858, 0.00308117,\n",
       "       0.00085098, 0.00217221, 0.00078939, 0.00064701, 0.00102827,\n",
       "       0.00114339, 0.00121189, 0.00251147, 0.00614527, 0.00064863,\n",
       "       0.00170119, 0.00124348, 0.00141953, 0.00121155, 0.00133483,\n",
       "       0.0008843 , 0.00240895, 0.00445152, 0.00103198, 0.0018326 ,\n",
       "       0.0011453 , 0.00140274, 0.00123541, 0.00161887, 0.00143135,\n",
       "       0.00182518, 0.0022906 , 0.00067863, 0.0012154 , 0.00083174,\n",
       "       0.00113693, 0.00235855, 0.00148819, 0.00083425, 0.00169742,\n",
       "       0.00971267, 0.00210141, 0.0022375 , 0.00142675, 0.00219703,\n",
       "       0.00128131, 0.00102228, 0.00090219, 0.00619493, 0.00319261,\n",
       "       0.007364  , 0.00173414, 0.00156901, 0.00755235, 0.00287818,\n",
       "       0.01222888, 0.00912924, 0.00237832, 0.0013582 , 0.00220387,\n",
       "       0.001277  , 0.00127731, 0.00212444, 0.00119307, 0.00070317,\n",
       "       0.00151935, 0.01187753, 0.0020591 , 0.00127034, 0.00173879,\n",
       "       0.00243973, 0.00100929, 0.00114689, 0.00162293, 0.00117455,\n",
       "       0.02247654, 0.0022548 , 0.00189127, 0.00230672, 0.00151744,\n",
       "       0.0014388 , 0.00219113, 0.00116253, 0.00093727, 0.00260791,\n",
       "       0.00511724, 0.00124129, 0.00136458, 0.00177902, 0.00205413,\n",
       "       0.00118785, 0.00102004, 0.00159777, 0.00427565, 0.00401101,\n",
       "       0.00053327, 0.00378374, 0.0016553 , 0.0026632 , 0.00540559,\n",
       "       0.00092029, 0.00101872, 0.00169585, 0.0014033 , 0.00086433,\n",
       "       0.00172017, 0.00161867, 0.00160392, 0.02134352, 0.00087323,\n",
       "       0.00216128, 0.00146462, 0.00882806, 0.0027028 , 0.0011834 ,\n",
       "       0.00106988, 0.00145212, 0.00126225, 0.00163175, 0.00175498,\n",
       "       0.00208395, 0.00285853, 0.00098584, 0.00239904, 0.00055872,\n",
       "       0.00165671, 0.00223805, 0.00163791, 0.00326556, 0.00213365,\n",
       "       0.00146047, 0.00162343, 0.0009471 , 0.00139968, 0.00185199,\n",
       "       0.00169257, 0.00232042, 0.0032074 , 0.00207031, 0.00212227,\n",
       "       0.00140435, 0.00288223, 0.00122424, 0.00284197, 0.00175785,\n",
       "       0.00115261, 0.00259475, 0.06764658, 0.00163449, 0.00377155,\n",
       "       0.00375801, 0.00182715, 0.00137382, 0.00155592, 0.00357372,\n",
       "       0.00781687, 0.20313316, 0.00593456, 0.00208594, 0.00221341,\n",
       "       0.00089388, 0.00112259, 0.00138052, 0.00242468, 0.04610006,\n",
       "       0.0096224 , 0.00500343, 0.00093468, 0.0027294 , 0.00086574,\n",
       "       0.00108925, 0.00095591, 0.00619078, 0.00815955, 0.008028  ,\n",
       "       0.00220217, 0.0014984 , 0.00316197, 0.00145509, 0.00196255,\n",
       "       0.00136251, 0.0019494 , 0.00343164, 0.00356324, 0.00152651,\n",
       "       0.00223036, 0.00119101, 0.00097554, 0.00152928, 0.00309458,\n",
       "       0.00188647, 0.00654406, 0.01427513, 0.00136342, 0.00849861,\n",
       "       0.00237781, 0.00143775, 0.00202445, 0.00109881, 0.00109616,\n",
       "       0.00092498, 0.00165875, 0.00165118, 0.00071113, 0.00168833,\n",
       "       0.001425  , 0.00190977, 0.00069474, 0.00139482, 0.00157881,\n",
       "       0.00442255, 0.00143091, 0.001082  , 0.00184201, 0.00116001,\n",
       "       0.00103702, 0.00167419, 0.00120052, 0.00146219, 0.00181976,\n",
       "       0.00285575, 0.00112883, 0.00174911, 0.00106243, 0.00101906,\n",
       "       0.00119411, 0.0016784 , 0.00254697, 0.0056495 , 0.00694763,\n",
       "       0.00145243, 0.00168975, 0.00135307, 0.00121707, 0.00167415,\n",
       "       0.00122976, 0.00104307, 0.00257459, 0.00297308, 0.00092327,\n",
       "       0.00117231, 0.00128566, 0.00104479, 0.00110045, 0.00128279,\n",
       "       0.00108036, 0.00519387, 0.00404824])"
      ]
     },
     "execution_count": 13,
     "metadata": {},
     "output_type": "execute_result"
    }
   ],
   "source": [
    "rf_imp"
   ]
  },
  {
   "cell_type": "code",
   "execution_count": 41,
   "metadata": {},
   "outputs": [
    {
     "data": {
      "image/png": "[encoded data removed]",
      "text/plain": [
       "<Figure size 432x288 with 1 Axes>"
      ]
     },
     "metadata": {
      "needs_background": "light"
     },
     "output_type": "display_data"
    }
   ],
   "source": [
    "plt.bar(x = [x for x in range(288)],height = rf_imp)\n",
    "plt.savefig('FeatureImportance.png')"
   ]
  },
  {
   "cell_type": "code",
   "execution_count": null,
   "metadata": {},
   "outputs": [],
   "source": []
  }
 ],
 "metadata": {
  "kernelspec": {
   "display_name": "Python 2",
   "language": "python",
   "name": "python2"
  },
  "language_info": {
   "codemirror_mode": {
    "name": "ipython",
    "version": 2
   },
   "file_extension": ".py",
   "mimetype": "text/x-python",
   "name": "python",
   "nbconvert_exporter": "python",
   "pygments_lexer": "ipython2",
   "version": "2.7.15"
  }
 },
 "nbformat": 4,
 "nbformat_minor": 2
}
